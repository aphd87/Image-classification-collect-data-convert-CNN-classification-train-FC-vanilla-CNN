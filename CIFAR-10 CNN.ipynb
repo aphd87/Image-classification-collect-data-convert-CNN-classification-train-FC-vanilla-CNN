{
 "cells": [
  {
   "cell_type": "markdown",
   "metadata": {
    "id": "y3Ly3QmejAkx"
   },
   "source": [
    "[CIFAR-10 Dataset](https://www.cs.toronto.edu/~kriz/cifar.html) was built and shared by Alex Krizhevsky, Vinod Nair, and Geoffrey Hinton."
   ]
  },
  {
   "cell_type": "markdown",
   "metadata": {
    "id": "zzxDzUlzlaTC"
   },
   "source": [
    "### Load tensorflow"
   ]
  },
  {
   "cell_type": "code",
   "execution_count": 1,
   "metadata": {
    "executionInfo": {
     "elapsed": 16352,
     "status": "ok",
     "timestamp": 1621150273712,
     "user": {
      "displayName": "Sayan Dey",
      "photoUrl": "https://lh3.googleusercontent.com/a-/AOh14GgqVHJ9o6-7idGiRbNNd4iVc1VjzvuPnwmAnvEtD6U=s64",
      "userId": "03603580465490055794"
     },
     "user_tz": -330
    },
    "id": "dBKP8ZyjVnUk"
   },
   "outputs": [],
   "source": [
    "import numpy as np"
   ]
  },
  {
   "cell_type": "code",
   "execution_count": 2,
   "metadata": {
    "executionInfo": {
     "elapsed": 12222,
     "status": "ok",
     "timestamp": 1621150273713,
     "user": {
      "displayName": "Sayan Dey",
      "photoUrl": "https://lh3.googleusercontent.com/a-/AOh14GgqVHJ9o6-7idGiRbNNd4iVc1VjzvuPnwmAnvEtD6U=s64",
      "userId": "03603580465490055794"
     },
     "user_tz": -330
    },
    "id": "QRSjlO8YlaTD"
   },
   "outputs": [],
   "source": [
    "import tensorflow as tf"
   ]
  },
  {
   "cell_type": "markdown",
   "metadata": {
    "id": "Q1Z5_xYClaTH"
   },
   "source": [
    "### Collect Data"
   ]
  },
  {
   "cell_type": "code",
   "execution_count": 3,
   "metadata": {
    "colab": {
     "base_uri": "https://localhost:8080/"
    },
    "executionInfo": {
     "elapsed": 9927,
     "status": "ok",
     "timestamp": 1621150267261,
     "user": {
      "displayName": "Sayan Dey",
      "photoUrl": "https://lh3.googleusercontent.com/a-/AOh14GgqVHJ9o6-7idGiRbNNd4iVc1VjzvuPnwmAnvEtD6U=s64",
      "userId": "03603580465490055794"
     },
     "user_tz": -330
    },
    "id": "6AOgxO3AlaTI",
    "outputId": "76f2d691-75cc-42e5-9a40-c00f1983c526"
   },
   "outputs": [],
   "source": [
    "(trainX, trainY),(testX, testY) = tf.keras.datasets.cifar10.load_data()"
   ]
  },
  {
   "cell_type": "code",
   "execution_count": 4,
   "metadata": {
    "colab": {
     "base_uri": "https://localhost:8080/"
    },
    "executionInfo": {
     "elapsed": 9926,
     "status": "ok",
     "timestamp": 1621150267264,
     "user": {
      "displayName": "Sayan Dey",
      "photoUrl": "https://lh3.googleusercontent.com/a-/AOh14GgqVHJ9o6-7idGiRbNNd4iVc1VjzvuPnwmAnvEtD6U=s64",
      "userId": "03603580465490055794"
     },
     "user_tz": -330
    },
    "id": "RkKWEr9ZlaTN",
    "outputId": "59e2b312-8161-42aa-feff-81afd66e6a33"
   },
   "outputs": [
    {
     "data": {
      "text/plain": [
       "(50000, 32, 32, 3)"
      ]
     },
     "execution_count": 4,
     "metadata": {},
     "output_type": "execute_result"
    }
   ],
   "source": [
    "trainX.shape"
   ]
  },
  {
   "cell_type": "markdown",
   "metadata": {
    "id": "BZtz_GoBlaTQ"
   },
   "source": [
    "### Convert Output label to multiple values"
   ]
  },
  {
   "cell_type": "code",
   "execution_count": 5,
   "metadata": {
    "executionInfo": {
     "elapsed": 9921,
     "status": "ok",
     "timestamp": 1621150267264,
     "user": {
      "displayName": "Sayan Dey",
      "photoUrl": "https://lh3.googleusercontent.com/a-/AOh14GgqVHJ9o6-7idGiRbNNd4iVc1VjzvuPnwmAnvEtD6U=s64",
      "userId": "03603580465490055794"
     },
     "user_tz": -330
    },
    "id": "fltHpNSTlaTR"
   },
   "outputs": [],
   "source": [
    "trainY = tf.keras.utils.to_categorical(trainY, num_classes=10)\n",
    "testY = tf.keras.utils.to_categorical(testY, num_classes=10)"
   ]
  },
  {
   "cell_type": "code",
   "execution_count": 6,
   "metadata": {
    "executionInfo": {
     "elapsed": 10545,
     "status": "ok",
     "timestamp": 1621150267893,
     "user": {
      "displayName": "Sayan Dey",
      "photoUrl": "https://lh3.googleusercontent.com/a-/AOh14GgqVHJ9o6-7idGiRbNNd4iVc1VjzvuPnwmAnvEtD6U=s64",
      "userId": "03603580465490055794"
     },
     "user_tz": -330
    },
    "id": "CUxdLKsmrjif"
   },
   "outputs": [],
   "source": [
    "trainX=trainX/255\n",
    "testX=testX/255    # standardize the data for train and test to be between 0-1"
   ]
  },
  {
   "cell_type": "markdown",
   "metadata": {
    "id": "zyLCiNu2laTT"
   },
   "source": [
    "## Build the Graph"
   ]
  },
  {
   "cell_type": "code",
   "execution_count": 7,
   "metadata": {
    "executionInfo": {
     "elapsed": 16357,
     "status": "ok",
     "timestamp": 1621150273712,
     "user": {
      "displayName": "Sayan Dey",
      "photoUrl": "https://lh3.googleusercontent.com/a-/AOh14GgqVHJ9o6-7idGiRbNNd4iVc1VjzvuPnwmAnvEtD6U=s64",
      "userId": "03603580465490055794"
     },
     "user_tz": -330
    },
    "id": "oyFnCvrDlaTV"
   },
   "outputs": [],
   "source": [
    "tf.keras.backend.clear_session()\n",
    "#Initialize model, reshape & normalize data\n",
    "model = tf.keras.models.Sequential()\n",
    "\n",
    "#Reshape data from 2D (28,28) to 3D (28, 28, 1)\n",
    "model.add(tf.keras.layers.Reshape((32,32,3),input_shape=(32,32,3)))"
   ]
  },
  {
   "cell_type": "markdown",
   "metadata": {
    "id": "ty3W8cr2laTX"
   },
   "source": [
    "### Apply Convolutional Layers, MaxPooling"
   ]
  },
  {
   "cell_type": "code",
   "execution_count": 8,
   "metadata": {
    "id": "lGBw31K3laTY"
   },
   "outputs": [],
   "source": [
    "#Add first convolutional layer\n",
    "model.add(tf.keras.layers.Conv2D(32, #Number of filters \n",
    "                                 kernel_size=(3,3), #Size of the filter\n",
    "                                 activation='relu'))\n",
    "\n",
    "#Add second convolutional layer\n",
    "model.add(tf.keras.layers.Conv2D(64, kernel_size=(3,3), activation='relu'))\n",
    "model.add(tf.keras.layers.MaxPool2D(pool_size=(2,2)))\n",
    "model.add(tf.keras.layers.Conv2D(128, kernel_size=(3,3), activation='relu'))\n",
    "model.add(tf.keras.layers.Conv2D(256, kernel_size=(3,3), activation='relu'))\n",
    "#Add MaxPooling layer\n",
    "model.add(tf.keras.layers.MaxPool2D(pool_size=(2,2)))\n",
    "\n",
    "#model.add(tf.keras.layers.GlobalAveragePooling2D())"
   ]
  },
  {
   "cell_type": "markdown",
   "metadata": {
    "id": "I2R3PieRlaTb"
   },
   "source": [
    "### Add layers for Classification"
   ]
  },
  {
   "cell_type": "code",
   "execution_count": 9,
   "metadata": {
    "id": "mN05mk8hlaTc"
   },
   "outputs": [],
   "source": [
    "#Flatten the output\n",
    "model.add(tf.keras.layers.Flatten())\n",
    "\n",
    "#Dense layer\n",
    "model.add(tf.keras.layers.Dense(128, activation='relu'))\n",
    "\n",
    "#Add another dropout layer\n",
    "model.add(tf.keras.layers.Dropout(0.3))\n",
    "\n",
    "#Output layer\n",
    "model.add(tf.keras.layers.Dense(10, activation='softmax'))"
   ]
  },
  {
   "cell_type": "code",
   "execution_count": 10,
   "metadata": {
    "id": "mm1fHVpklaTf"
   },
   "outputs": [],
   "source": [
    "model.compile(optimizer='adam', \n",
    "              loss='categorical_crossentropy', metrics=['accuracy'])"
   ]
  },
  {
   "cell_type": "code",
   "execution_count": 11,
   "metadata": {
    "colab": {
     "base_uri": "https://localhost:8080/"
    },
    "executionInfo": {
     "elapsed": 16019,
     "status": "ok",
     "timestamp": 1617100927771,
     "user": {
      "displayName": "Sayan Dey",
      "photoUrl": "https://lh3.googleusercontent.com/a-/AOh14GgqVHJ9o6-7idGiRbNNd4iVc1VjzvuPnwmAnvEtD6U=s64",
      "userId": "03603580465490055794"
     },
     "user_tz": -330
    },
    "id": "TlREpRGWlaTi",
    "outputId": "c874a995-9dd9-46dd-f595-13929bebce41"
   },
   "outputs": [
    {
     "name": "stdout",
     "output_type": "stream",
     "text": [
      "Model: \"sequential\"\n",
      "_________________________________________________________________\n",
      " Layer (type)                Output Shape              Param #   \n",
      "=================================================================\n",
      " reshape (Reshape)           (None, 32, 32, 3)         0         \n",
      "                                                                 \n",
      " conv2d (Conv2D)             (None, 30, 30, 32)        896       \n",
      "                                                                 \n",
      " conv2d_1 (Conv2D)           (None, 28, 28, 64)        18496     \n",
      "                                                                 \n",
      " max_pooling2d (MaxPooling2D  (None, 14, 14, 64)       0         \n",
      " )                                                               \n",
      "                                                                 \n",
      " conv2d_2 (Conv2D)           (None, 12, 12, 128)       73856     \n",
      "                                                                 \n",
      " conv2d_3 (Conv2D)           (None, 10, 10, 256)       295168    \n",
      "                                                                 \n",
      " max_pooling2d_1 (MaxPooling  (None, 5, 5, 256)        0         \n",
      " 2D)                                                             \n",
      "                                                                 \n",
      " flatten (Flatten)           (None, 6400)              0         \n",
      "                                                                 \n",
      " dense (Dense)               (None, 128)               819328    \n",
      "                                                                 \n",
      " dropout (Dropout)           (None, 128)               0         \n",
      "                                                                 \n",
      " dense_1 (Dense)             (None, 10)                1290      \n",
      "                                                                 \n",
      "=================================================================\n",
      "Total params: 1,209,034\n",
      "Trainable params: 1,209,034\n",
      "Non-trainable params: 0\n",
      "_________________________________________________________________\n"
     ]
    }
   ],
   "source": [
    "model.summary()"
   ]
  },
  {
   "cell_type": "markdown",
   "metadata": {
    "id": "4kIsqrNElaTl"
   },
   "source": [
    "## Train the model"
   ]
  },
  {
   "cell_type": "code",
   "execution_count": 12,
   "metadata": {
    "colab": {
     "base_uri": "https://localhost:8080/"
    },
    "executionInfo": {
     "elapsed": 129145,
     "status": "ok",
     "timestamp": 1615036747175,
     "user": {
      "displayName": "Sayan Dey",
      "photoUrl": "https://lh3.googleusercontent.com/a-/AOh14GgqVHJ9o6-7idGiRbNNd4iVc1VjzvuPnwmAnvEtD6U=s64",
      "userId": "03603580465490055794"
     },
     "user_tz": -330
    },
    "id": "FsJI729klaTo",
    "outputId": "56e60a89-b4ce-4737-9d11-74595670b50a"
   },
   "outputs": [
    {
     "name": "stdout",
     "output_type": "stream",
     "text": [
      "Epoch 1/10\n",
      "1563/1563 [==============================] - 147s 94ms/step - loss: 1.5028 - accuracy: 0.4574 - val_loss: 1.1006 - val_accuracy: 0.6100\n",
      "Epoch 2/10\n",
      "1563/1563 [==============================] - 140s 89ms/step - loss: 1.0305 - accuracy: 0.6366 - val_loss: 0.9321 - val_accuracy: 0.6749\n",
      "Epoch 3/10\n",
      "1563/1563 [==============================] - 143s 92ms/step - loss: 0.8443 - accuracy: 0.7051 - val_loss: 0.7951 - val_accuracy: 0.7306\n",
      "Epoch 4/10\n",
      "1563/1563 [==============================] - 146s 93ms/step - loss: 0.7238 - accuracy: 0.7469 - val_loss: 0.7604 - val_accuracy: 0.7363\n",
      "Epoch 5/10\n",
      "1563/1563 [==============================] - 137s 87ms/step - loss: 0.6318 - accuracy: 0.7786 - val_loss: 0.7483 - val_accuracy: 0.7506\n",
      "Epoch 6/10\n",
      "1563/1563 [==============================] - 136s 87ms/step - loss: 0.5495 - accuracy: 0.8059 - val_loss: 0.7480 - val_accuracy: 0.7526\n",
      "Epoch 7/10\n",
      "1563/1563 [==============================] - 420s 269ms/step - loss: 0.4842 - accuracy: 0.8296 - val_loss: 0.7792 - val_accuracy: 0.7503\n",
      "Epoch 8/10\n",
      "1563/1563 [==============================] - 137s 87ms/step - loss: 0.4249 - accuracy: 0.8479 - val_loss: 0.8052 - val_accuracy: 0.7606\n",
      "Epoch 9/10\n",
      "1563/1563 [==============================] - 138s 88ms/step - loss: 0.3711 - accuracy: 0.8680 - val_loss: 0.8373 - val_accuracy: 0.7522\n",
      "Epoch 10/10\n",
      "1563/1563 [==============================] - 149s 95ms/step - loss: 0.3397 - accuracy: 0.8781 - val_loss: 0.8622 - val_accuracy: 0.7608\n"
     ]
    },
    {
     "data": {
      "text/plain": [
       "<keras.callbacks.History at 0x1e99c217e20>"
      ]
     },
     "execution_count": 12,
     "metadata": {},
     "output_type": "execute_result"
    }
   ],
   "source": [
    "#Train the model\n",
    "model.fit(trainX,trainY,          \n",
    "          validation_data=(testX,testY),\n",
    "          epochs=10,\n",
    "          batch_size=32)"
   ]
  },
  {
   "cell_type": "code",
   "execution_count": 13,
   "metadata": {
    "id": "Uhnwjqa3w0dM"
   },
   "outputs": [],
   "source": [
    "model.save('demo.h5')"
   ]
  },
  {
   "cell_type": "code",
   "execution_count": 14,
   "metadata": {
    "colab": {
     "base_uri": "https://localhost:8080/"
    },
    "executionInfo": {
     "elapsed": 126751,
     "status": "ok",
     "timestamp": 1615036747177,
     "user": {
      "displayName": "Sayan Dey",
      "photoUrl": "https://lh3.googleusercontent.com/a-/AOh14GgqVHJ9o6-7idGiRbNNd4iVc1VjzvuPnwmAnvEtD6U=s64",
      "userId": "03603580465490055794"
     },
     "user_tz": -330
    },
    "id": "UvFbrFgAxWyl",
    "outputId": "67315e24-15e8-431c-b20f-8e5db4d1d865"
   },
   "outputs": [
    {
     "name": "stderr",
     "output_type": "stream",
     "text": [
      "'ls' is not recognized as an internal or external command,\n",
      "operable program or batch file.\n"
     ]
    }
   ],
   "source": [
    "!ls -l"
   ]
  },
  {
   "cell_type": "code",
   "execution_count": null,
   "metadata": {
    "id": "nFpctGg1dl0R"
   },
   "outputs": [],
   "source": []
  },
  {
   "cell_type": "code",
   "execution_count": null,
   "metadata": {
    "id": "Kg59Ihf7dl2j"
   },
   "outputs": [],
   "source": []
  },
  {
   "cell_type": "code",
   "execution_count": 15,
   "metadata": {
    "id": "DFBEJtRHdl52"
   },
   "outputs": [
    {
     "name": "stdout",
     "output_type": "stream",
     "text": [
      "Downloading data from https://storage.googleapis.com/tensorflow/keras-applications/vgg19/vgg19_weights_tf_dim_ordering_tf_kernels_notop.h5\n",
      "80134624/80134624 [==============================] - 14s 0us/step\n"
     ]
    }
   ],
   "source": [
    "tf.keras.backend.clear_session()\n",
    "#Initialize model, reshape & normalize data\n",
    "model = tf.keras.models.Sequential()\n",
    "model = tf.keras.applications.vgg19.VGG19(include_top=False, #Do not include FC layer at the end\n",
    "                                          input_shape=(32,32, 3),\n",
    "                                          weights='imagenet')"
   ]
  },
  {
   "cell_type": "code",
   "execution_count": 16,
   "metadata": {
    "id": "5laT-kb-ukV4"
   },
   "outputs": [],
   "source": [
    "#Set pre-trained model layers to not trainable\n",
    "for layer in model.layers:\n",
    "    layer.trainable = False"
   ]
  },
  {
   "cell_type": "code",
   "execution_count": 17,
   "metadata": {
    "colab": {
     "base_uri": "https://localhost:8080/"
    },
    "executionInfo": {
     "elapsed": 1945,
     "status": "ok",
     "timestamp": 1617101788947,
     "user": {
      "displayName": "Sayan Dey",
      "photoUrl": "https://lh3.googleusercontent.com/a-/AOh14GgqVHJ9o6-7idGiRbNNd4iVc1VjzvuPnwmAnvEtD6U=s64",
      "userId": "03603580465490055794"
     },
     "user_tz": -330
    },
    "id": "P19xO-DIwIoe",
    "outputId": "d691237e-ca7e-45b9-a8c2-a2cc87f7415e"
   },
   "outputs": [
    {
     "name": "stdout",
     "output_type": "stream",
     "text": [
      "22\n"
     ]
    }
   ],
   "source": [
    "print(len(model.layers))\n",
    "for layer in model.layers[10:]:\n",
    "    layer.trainable =  True   "
   ]
  },
  {
   "cell_type": "markdown",
   "metadata": {
    "id": "PdSlv9B8hs3K"
   },
   "source": [
    "### Add FC layer for new classes"
   ]
  },
  {
   "cell_type": "code",
   "execution_count": 18,
   "metadata": {
    "id": "KuK7oJ-xhs3O"
   },
   "outputs": [],
   "source": [
    "#get Output layer of Pretrained model\n",
    "x = model.output\n",
    "\n",
    "#Flatten the output to feed to Dense layer\n",
    "x = tf.keras.layers.Flatten()(x)\n",
    "\n",
    "#Add one Dense layer\n",
    "x = tf.keras.layers.Dense(200, activation='relu')(x)\n",
    "\n",
    "#Add output layer\n",
    "prediction = tf.keras.layers.Dense(10,activation='softmax')(x)"
   ]
  },
  {
   "cell_type": "code",
   "execution_count": 19,
   "metadata": {
    "colab": {
     "base_uri": "https://localhost:8080/"
    },
    "executionInfo": {
     "elapsed": 1754,
     "status": "ok",
     "timestamp": 1617101789806,
     "user": {
      "displayName": "Sayan Dey",
      "photoUrl": "https://lh3.googleusercontent.com/a-/AOh14GgqVHJ9o6-7idGiRbNNd4iVc1VjzvuPnwmAnvEtD6U=s64",
      "userId": "03603580465490055794"
     },
     "user_tz": -330
    },
    "id": "9AwW-3RVvo3H",
    "outputId": "96e00418-ac66-429e-b92f-21a7f54709cf"
   },
   "outputs": [
    {
     "name": "stdout",
     "output_type": "stream",
     "text": [
      "Model: \"vgg19\"\n",
      "_________________________________________________________________\n",
      " Layer (type)                Output Shape              Param #   \n",
      "=================================================================\n",
      " input_1 (InputLayer)        [(None, 32, 32, 3)]       0         \n",
      "                                                                 \n",
      " block1_conv1 (Conv2D)       (None, 32, 32, 64)        1792      \n",
      "                                                                 \n",
      " block1_conv2 (Conv2D)       (None, 32, 32, 64)        36928     \n",
      "                                                                 \n",
      " block1_pool (MaxPooling2D)  (None, 16, 16, 64)        0         \n",
      "                                                                 \n",
      " block2_conv1 (Conv2D)       (None, 16, 16, 128)       73856     \n",
      "                                                                 \n",
      " block2_conv2 (Conv2D)       (None, 16, 16, 128)       147584    \n",
      "                                                                 \n",
      " block2_pool (MaxPooling2D)  (None, 8, 8, 128)         0         \n",
      "                                                                 \n",
      " block3_conv1 (Conv2D)       (None, 8, 8, 256)         295168    \n",
      "                                                                 \n",
      " block3_conv2 (Conv2D)       (None, 8, 8, 256)         590080    \n",
      "                                                                 \n",
      " block3_conv3 (Conv2D)       (None, 8, 8, 256)         590080    \n",
      "                                                                 \n",
      " block3_conv4 (Conv2D)       (None, 8, 8, 256)         590080    \n",
      "                                                                 \n",
      " block3_pool (MaxPooling2D)  (None, 4, 4, 256)         0         \n",
      "                                                                 \n",
      " block4_conv1 (Conv2D)       (None, 4, 4, 512)         1180160   \n",
      "                                                                 \n",
      " block4_conv2 (Conv2D)       (None, 4, 4, 512)         2359808   \n",
      "                                                                 \n",
      " block4_conv3 (Conv2D)       (None, 4, 4, 512)         2359808   \n",
      "                                                                 \n",
      " block4_conv4 (Conv2D)       (None, 4, 4, 512)         2359808   \n",
      "                                                                 \n",
      " block4_pool (MaxPooling2D)  (None, 2, 2, 512)         0         \n",
      "                                                                 \n",
      " block5_conv1 (Conv2D)       (None, 2, 2, 512)         2359808   \n",
      "                                                                 \n",
      " block5_conv2 (Conv2D)       (None, 2, 2, 512)         2359808   \n",
      "                                                                 \n",
      " block5_conv3 (Conv2D)       (None, 2, 2, 512)         2359808   \n",
      "                                                                 \n",
      " block5_conv4 (Conv2D)       (None, 2, 2, 512)         2359808   \n",
      "                                                                 \n",
      " block5_pool (MaxPooling2D)  (None, 1, 1, 512)         0         \n",
      "                                                                 \n",
      "=================================================================\n",
      "Total params: 20,024,384\n",
      "Trainable params: 18,288,896\n",
      "Non-trainable params: 1,735,488\n",
      "_________________________________________________________________\n"
     ]
    }
   ],
   "source": [
    "model.summary()"
   ]
  },
  {
   "cell_type": "markdown",
   "metadata": {
    "id": "vo6C0vDWhs3T"
   },
   "source": [
    "### Building final model for Classification"
   ]
  },
  {
   "cell_type": "code",
   "execution_count": 20,
   "metadata": {
    "id": "ymVI9p5Shs3V"
   },
   "outputs": [],
   "source": [
    "#Using Keras Model class\n",
    "final_model = tf.keras.models.Model(inputs=model.input, #Pre-trained model input as input layer\n",
    "                                    outputs=prediction) #Output layer added"
   ]
  },
  {
   "cell_type": "code",
   "execution_count": 21,
   "metadata": {
    "id": "xuUV2CXGhs3b"
   },
   "outputs": [],
   "source": [
    "final_model.compile(optimizer='adam', loss='categorical_crossentropy', metrics=['accuracy'])"
   ]
  },
  {
   "cell_type": "code",
   "execution_count": 22,
   "metadata": {},
   "outputs": [
    {
     "name": "stdout",
     "output_type": "stream",
     "text": [
      "Model: \"model\"\n",
      "_________________________________________________________________\n",
      " Layer (type)                Output Shape              Param #   \n",
      "=================================================================\n",
      " input_1 (InputLayer)        [(None, 32, 32, 3)]       0         \n",
      "                                                                 \n",
      " block1_conv1 (Conv2D)       (None, 32, 32, 64)        1792      \n",
      "                                                                 \n",
      " block1_conv2 (Conv2D)       (None, 32, 32, 64)        36928     \n",
      "                                                                 \n",
      " block1_pool (MaxPooling2D)  (None, 16, 16, 64)        0         \n",
      "                                                                 \n",
      " block2_conv1 (Conv2D)       (None, 16, 16, 128)       73856     \n",
      "                                                                 \n",
      " block2_conv2 (Conv2D)       (None, 16, 16, 128)       147584    \n",
      "                                                                 \n",
      " block2_pool (MaxPooling2D)  (None, 8, 8, 128)         0         \n",
      "                                                                 \n",
      " block3_conv1 (Conv2D)       (None, 8, 8, 256)         295168    \n",
      "                                                                 \n",
      " block3_conv2 (Conv2D)       (None, 8, 8, 256)         590080    \n",
      "                                                                 \n",
      " block3_conv3 (Conv2D)       (None, 8, 8, 256)         590080    \n",
      "                                                                 \n",
      " block3_conv4 (Conv2D)       (None, 8, 8, 256)         590080    \n",
      "                                                                 \n",
      " block3_pool (MaxPooling2D)  (None, 4, 4, 256)         0         \n",
      "                                                                 \n",
      " block4_conv1 (Conv2D)       (None, 4, 4, 512)         1180160   \n",
      "                                                                 \n",
      " block4_conv2 (Conv2D)       (None, 4, 4, 512)         2359808   \n",
      "                                                                 \n",
      " block4_conv3 (Conv2D)       (None, 4, 4, 512)         2359808   \n",
      "                                                                 \n",
      " block4_conv4 (Conv2D)       (None, 4, 4, 512)         2359808   \n",
      "                                                                 \n",
      " block4_pool (MaxPooling2D)  (None, 2, 2, 512)         0         \n",
      "                                                                 \n",
      " block5_conv1 (Conv2D)       (None, 2, 2, 512)         2359808   \n",
      "                                                                 \n",
      " block5_conv2 (Conv2D)       (None, 2, 2, 512)         2359808   \n",
      "                                                                 \n",
      " block5_conv3 (Conv2D)       (None, 2, 2, 512)         2359808   \n",
      "                                                                 \n",
      " block5_conv4 (Conv2D)       (None, 2, 2, 512)         2359808   \n",
      "                                                                 \n",
      " block5_pool (MaxPooling2D)  (None, 1, 1, 512)         0         \n",
      "                                                                 \n",
      " flatten (Flatten)           (None, 512)               0         \n",
      "                                                                 \n",
      " dense (Dense)               (None, 200)               102600    \n",
      "                                                                 \n",
      " dense_1 (Dense)             (None, 10)                2010      \n",
      "                                                                 \n",
      "=================================================================\n",
      "Total params: 20,128,994\n",
      "Trainable params: 18,393,506\n",
      "Non-trainable params: 1,735,488\n",
      "_________________________________________________________________\n"
     ]
    }
   ],
   "source": [
    "final_model.summary()"
   ]
  },
  {
   "cell_type": "markdown",
   "metadata": {
    "id": "dNrdXkW_ukWC"
   },
   "source": [
    "### Train the model"
   ]
  },
  {
   "cell_type": "code",
   "execution_count": 23,
   "metadata": {
    "colab": {
     "base_uri": "https://localhost:8080/"
    },
    "executionInfo": {
     "elapsed": 299881,
     "status": "ok",
     "timestamp": 1617102943661,
     "user": {
      "displayName": "Sayan Dey",
      "photoUrl": "https://lh3.googleusercontent.com/a-/AOh14GgqVHJ9o6-7idGiRbNNd4iVc1VjzvuPnwmAnvEtD6U=s64",
      "userId": "03603580465490055794"
     },
     "user_tz": -330
    },
    "id": "4ceMRBzTukWG",
    "outputId": "b36a32ed-9696-4750-e334-50c56deeaa89"
   },
   "outputs": [
    {
     "name": "stdout",
     "output_type": "stream",
     "text": [
      "Epoch 1/10\n",
      "782/782 [==============================] - 1502s 2s/step - loss: 1.7810 - accuracy: 0.3035 - val_loss: 1.7917 - val_accuracy: 0.2991\n",
      "Epoch 2/10\n",
      "782/782 [==============================] - 1390s 2s/step - loss: 1.3622 - accuracy: 0.4957 - val_loss: 1.1745 - val_accuracy: 0.5852\n",
      "Epoch 3/10\n",
      "782/782 [==============================] - 1504s 2s/step - loss: 1.1658 - accuracy: 0.5902 - val_loss: 1.0791 - val_accuracy: 0.6319\n",
      "Epoch 4/10\n",
      "782/782 [==============================] - 1531s 2s/step - loss: 1.0394 - accuracy: 0.6418 - val_loss: 1.0623 - val_accuracy: 0.6477\n",
      "Epoch 5/10\n",
      "782/782 [==============================] - 1501s 2s/step - loss: 0.9358 - accuracy: 0.6815 - val_loss: 0.9509 - val_accuracy: 0.6787\n",
      "Epoch 6/10\n",
      "782/782 [==============================] - 1446s 2s/step - loss: 0.8508 - accuracy: 0.7103 - val_loss: 0.8884 - val_accuracy: 0.7118\n",
      "Epoch 7/10\n",
      "782/782 [==============================] - 1454s 2s/step - loss: 0.7941 - accuracy: 0.7314 - val_loss: 0.8508 - val_accuracy: 0.7239\n",
      "Epoch 8/10\n",
      "782/782 [==============================] - 1579s 2s/step - loss: 0.7492 - accuracy: 0.7470 - val_loss: 0.8682 - val_accuracy: 0.7153\n",
      "Epoch 9/10\n",
      "782/782 [==============================] - 6092s 8s/step - loss: 0.6980 - accuracy: 0.7617 - val_loss: 0.8322 - val_accuracy: 0.7293\n",
      "Epoch 10/10\n",
      "782/782 [==============================] - 1680s 2s/step - loss: 0.6556 - accuracy: 0.7809 - val_loss: 0.8868 - val_accuracy: 0.7232\n"
     ]
    },
    {
     "data": {
      "text/plain": [
       "<keras.callbacks.History at 0x1e99cc4e850>"
      ]
     },
     "execution_count": 23,
     "metadata": {},
     "output_type": "execute_result"
    }
   ],
   "source": [
    "final_model.fit(trainX,trainY,          \n",
    "          validation_data=(testX,testY),\n",
    "          epochs=10,\n",
    "          batch_size=64)\n"
   ]
  },
  {
   "cell_type": "code",
   "execution_count": null,
   "metadata": {
    "id": "PBXrr1_wsh1F"
   },
   "outputs": [],
   "source": []
  },
  {
   "cell_type": "code",
   "execution_count": null,
   "metadata": {
    "id": "pTtYwDI2zeDe"
   },
   "outputs": [],
   "source": []
  },
  {
   "cell_type": "code",
   "execution_count": null,
   "metadata": {
    "id": "PICOOY0gzeHo"
   },
   "outputs": [],
   "source": []
  },
  {
   "cell_type": "code",
   "execution_count": null,
   "metadata": {
    "id": "CkJAlZ8gzeKR"
   },
   "outputs": [],
   "source": []
  },
  {
   "cell_type": "code",
   "execution_count": null,
   "metadata": {
    "id": "4jyrFeWHzePc"
   },
   "outputs": [],
   "source": []
  },
  {
   "cell_type": "code",
   "execution_count": 24,
   "metadata": {
    "id": "tgaO3hFQDdX5"
   },
   "outputs": [],
   "source": [
    "import numpy as np\n",
    "from keras.datasets import cifar10\n",
    "\n",
    "#Load the dataset:\n",
    "(X_train, y_train), (X_test, y_test) = cifar10.load_data()"
   ]
  },
  {
   "cell_type": "code",
   "execution_count": 25,
   "metadata": {
    "colab": {
     "base_uri": "https://localhost:8080/"
    },
    "executionInfo": {
     "elapsed": 1170,
     "status": "ok",
     "timestamp": 1615038664904,
     "user": {
      "displayName": "Sayan Dey",
      "photoUrl": "https://lh3.googleusercontent.com/a-/AOh14GgqVHJ9o6-7idGiRbNNd4iVc1VjzvuPnwmAnvEtD6U=s64",
      "userId": "03603580465490055794"
     },
     "user_tz": -330
    },
    "id": "V6FAlfD-DdX8",
    "outputId": "76ec7ba4-fc7f-4e20-8e9a-20c2f083c068"
   },
   "outputs": [
    {
     "name": "stdout",
     "output_type": "stream",
     "text": [
      "There are 50000 train images and 10000 test images.\n",
      "There are 10 unique classes to predict.\n"
     ]
    }
   ],
   "source": [
    "print(\"There are {} train images and {} test images.\".format(X_train.shape[0], X_test.shape[0]))\n",
    "print('There are {} unique classes to predict.'.format(np.unique(y_train).shape[0]))"
   ]
  },
  {
   "cell_type": "code",
   "execution_count": 26,
   "metadata": {
    "id": "Swf9uPWMDdX_"
   },
   "outputs": [],
   "source": [
    "#One-hot encoding the labels\n",
    "num_classes = 10\n",
    "from keras.utils import np_utils\n",
    "y_train = np_utils.to_categorical(y_train, num_classes)\n",
    "y_test = np_utils.to_categorical(y_test, num_classes)"
   ]
  },
  {
   "cell_type": "code",
   "execution_count": 27,
   "metadata": {
    "colab": {
     "base_uri": "https://localhost:8080/",
     "height": 485
    },
    "executionInfo": {
     "elapsed": 2396,
     "status": "ok",
     "timestamp": 1615038666457,
     "user": {
      "displayName": "Sayan Dey",
      "photoUrl": "https://lh3.googleusercontent.com/a-/AOh14GgqVHJ9o6-7idGiRbNNd4iVc1VjzvuPnwmAnvEtD6U=s64",
      "userId": "03603580465490055794"
     },
     "user_tz": -330
    },
    "id": "wbzHMRygDdYB",
    "outputId": "ae396a1b-5c79-4cb2-b33d-4bc2cef2e7a2"
   },
   "outputs": [
    {
     "name": "stdout",
     "output_type": "stream",
     "text": [
      "Shape of each image in the training data:  (32, 32, 3)\n"
     ]
    },
    {
     "data": {
      "image/png": "[encoded data removed]",
      "text/plain": [
       "<Figure size 1000x1000 with 8 Axes>"
      ]
     },
     "metadata": {},
     "output_type": "display_data"
    }
   ],
   "source": [
    "%matplotlib inline\n",
    "\n",
    "import matplotlib.pyplot as plt\n",
    "\n",
    "fig = plt.figure(figsize=(10, 10))\n",
    "\n",
    "for i in range(1, 9):\n",
    "    img = X_train[i-1]\n",
    "    fig.add_subplot(2, 4, i)\n",
    "    plt.imshow(img)\n",
    "\n",
    "print('Shape of each image in the training data: ', X_train.shape[1:])"
   ]
  },
  {
   "cell_type": "code",
   "execution_count": 28,
   "metadata": {
    "colab": {
     "base_uri": "https://localhost:8080/"
    },
    "executionInfo": {
     "elapsed": 956,
     "status": "ok",
     "timestamp": 1615038668103,
     "user": {
      "displayName": "Sayan Dey",
      "photoUrl": "https://lh3.googleusercontent.com/a-/AOh14GgqVHJ9o6-7idGiRbNNd4iVc1VjzvuPnwmAnvEtD6U=s64",
      "userId": "03603580465490055794"
     },
     "user_tz": -330
    },
    "id": "Pi2qvpZpDdYE",
    "outputId": "07f014c7-7263-454b-eeba-5a6c91b5b838"
   },
   "outputs": [
    {
     "name": "stdout",
     "output_type": "stream",
     "text": [
      "Model: \"sequential_1\"\n",
      "_________________________________________________________________\n",
      " Layer (type)                Output Shape              Param #   \n",
      "=================================================================\n",
      " conv2d (Conv2D)             (None, 30, 30, 32)        896       \n",
      "                                                                 \n",
      " max_pooling2d (MaxPooling2D  (None, 15, 15, 32)       0         \n",
      " )                                                               \n",
      "                                                                 \n",
      " conv2d_1 (Conv2D)           (None, 13, 13, 32)        9248      \n",
      "                                                                 \n",
      " max_pooling2d_1 (MaxPooling  (None, 6, 6, 32)         0         \n",
      " 2D)                                                             \n",
      "                                                                 \n",
      " conv2d_2 (Conv2D)           (None, 4, 4, 64)          18496     \n",
      "                                                                 \n",
      " max_pooling2d_2 (MaxPooling  (None, 2, 2, 64)         0         \n",
      " 2D)                                                             \n",
      "                                                                 \n",
      " global_average_pooling2d (G  (None, 64)               0         \n",
      " lobalAveragePooling2D)                                          \n",
      "                                                                 \n",
      " dense_2 (Dense)             (None, 10)                650       \n",
      "                                                                 \n",
      "=================================================================\n",
      "Total params: 29,290\n",
      "Trainable params: 29,290\n",
      "Non-trainable params: 0\n",
      "_________________________________________________________________\n"
     ]
    }
   ],
   "source": [
    "#Importing the necessary libraries \n",
    "from keras.models import Sequential\n",
    "from keras.layers import Dense, Conv2D, MaxPooling2D\n",
    "from keras.layers import Dropout, Flatten, GlobalAveragePooling2D\n",
    "\n",
    "#Building up a Sequential model\n",
    "model = Sequential()\n",
    "model.add(Conv2D(32, (3, 3), activation='relu',input_shape = X_train.shape[1:]))\n",
    "model.add(MaxPooling2D(pool_size=(2, 2)))\n",
    "\n",
    "model.add(Conv2D(32, (3, 3), activation='relu'))\n",
    "model.add(MaxPooling2D(pool_size=(2, 2)))\n",
    "\n",
    "model.add(Conv2D(64, (3, 3), activation='relu'))\n",
    "model.add(MaxPooling2D(pool_size=(2, 2)))\n",
    "\n",
    "model.add(GlobalAveragePooling2D())\n",
    "model.add(Dense(10, activation='softmax'))\n",
    "model.summary()"
   ]
  },
  {
   "cell_type": "code",
   "execution_count": 29,
   "metadata": {
    "id": "CaS7WjP3DdYG"
   },
   "outputs": [],
   "source": [
    "model.compile(loss='binary_crossentropy', optimizer='adam',\n",
    "              metrics=['accuracy'])"
   ]
  },
  {
   "cell_type": "code",
   "execution_count": 30,
   "metadata": {
    "id": "cWLGKsqtDdYJ"
   },
   "outputs": [],
   "source": [
    "X_train_scratch = X_train/255\n",
    "X_test_scratch = X_test/255"
   ]
  },
  {
   "cell_type": "code",
   "execution_count": 31,
   "metadata": {
    "id": "Go8BBVTcDdYL"
   },
   "outputs": [],
   "source": [
    "from keras.callbacks import ModelCheckpoint\n",
    "\n",
    "checkpointer = ModelCheckpoint(filepath='scratchmodel.best.hdf5', \n",
    "                               verbose=1,save_best_only=True)"
   ]
  },
  {
   "cell_type": "code",
   "execution_count": 32,
   "metadata": {
    "colab": {
     "base_uri": "https://localhost:8080/"
    },
    "executionInfo": {
     "elapsed": 48759,
     "status": "ok",
     "timestamp": 1615038743604,
     "user": {
      "displayName": "Sayan Dey",
      "photoUrl": "https://lh3.googleusercontent.com/a-/AOh14GgqVHJ9o6-7idGiRbNNd4iVc1VjzvuPnwmAnvEtD6U=s64",
      "userId": "03603580465490055794"
     },
     "user_tz": -330
    },
    "id": "6E_mKdZIDdYO",
    "outputId": "2d093d4c-f77b-4929-e3dd-399c4825101f"
   },
   "outputs": [
    {
     "name": "stdout",
     "output_type": "stream",
     "text": [
      "Epoch 1/10\n",
      "1248/1250 [============================>.] - ETA: 0s - loss: 0.3065 - accuracy: 0.3177\n",
      "Epoch 1: val_loss improved from inf to 0.25287, saving model to scratchmodel.best.hdf5\n",
      "1250/1250 [==============================] - 24s 18ms/step - loss: 0.3064 - accuracy: 0.3178 - val_loss: 0.2529 - val_accuracy: 0.4028\n",
      "Epoch 2/10\n",
      "1250/1250 [==============================] - ETA: 0s - loss: 0.2415 - accuracy: 0.4464\n",
      "Epoch 2: val_loss improved from 0.25287 to 0.24886, saving model to scratchmodel.best.hdf5\n",
      "1250/1250 [==============================] - 23s 18ms/step - loss: 0.2415 - accuracy: 0.4464 - val_loss: 0.2489 - val_accuracy: 0.4330\n",
      "Epoch 3/10\n",
      "1247/1250 [============================>.] - ETA: 0s - loss: 0.2214 - accuracy: 0.5097\n",
      "Epoch 3: val_loss improved from 0.24886 to 0.22282, saving model to scratchmodel.best.hdf5\n",
      "1250/1250 [==============================] - 21s 17ms/step - loss: 0.2213 - accuracy: 0.5099 - val_loss: 0.2228 - val_accuracy: 0.5029\n",
      "Epoch 4/10\n",
      "1250/1250 [==============================] - ETA: 0s - loss: 0.2068 - accuracy: 0.5537\n",
      "Epoch 4: val_loss improved from 0.22282 to 0.20394, saving model to scratchmodel.best.hdf5\n",
      "1250/1250 [==============================] - 21s 16ms/step - loss: 0.2068 - accuracy: 0.5537 - val_loss: 0.2039 - val_accuracy: 0.5596\n",
      "Epoch 5/10\n",
      "1249/1250 [============================>.] - ETA: 0s - loss: 0.1946 - accuracy: 0.5868\n",
      "Epoch 5: val_loss improved from 0.20394 to 0.19370, saving model to scratchmodel.best.hdf5\n",
      "1250/1250 [==============================] - 22s 17ms/step - loss: 0.1946 - accuracy: 0.5867 - val_loss: 0.1937 - val_accuracy: 0.5947\n",
      "Epoch 6/10\n",
      "1249/1250 [============================>.] - ETA: 0s - loss: 0.1843 - accuracy: 0.6139\n",
      "Epoch 6: val_loss improved from 0.19370 to 0.19176, saving model to scratchmodel.best.hdf5\n",
      "1250/1250 [==============================] - 23s 18ms/step - loss: 0.1844 - accuracy: 0.6138 - val_loss: 0.1918 - val_accuracy: 0.5914\n",
      "Epoch 7/10\n",
      "1247/1250 [============================>.] - ETA: 0s - loss: 0.1760 - accuracy: 0.6381\n",
      "Epoch 7: val_loss improved from 0.19176 to 0.18378, saving model to scratchmodel.best.hdf5\n",
      "1250/1250 [==============================] - 21s 17ms/step - loss: 0.1760 - accuracy: 0.6383 - val_loss: 0.1838 - val_accuracy: 0.6241\n",
      "Epoch 8/10\n",
      "1249/1250 [============================>.] - ETA: 0s - loss: 0.1685 - accuracy: 0.6560\n",
      "Epoch 8: val_loss improved from 0.18378 to 0.18376, saving model to scratchmodel.best.hdf5\n",
      "1250/1250 [==============================] - 21s 17ms/step - loss: 0.1685 - accuracy: 0.6561 - val_loss: 0.1838 - val_accuracy: 0.6268\n",
      "Epoch 9/10\n",
      "1249/1250 [============================>.] - ETA: 0s - loss: 0.1615 - accuracy: 0.6729\n",
      "Epoch 9: val_loss did not improve from 0.18376\n",
      "1250/1250 [==============================] - 22s 17ms/step - loss: 0.1615 - accuracy: 0.6729 - val_loss: 0.1848 - val_accuracy: 0.6266\n",
      "Epoch 10/10\n",
      "1250/1250 [==============================] - ETA: 0s - loss: 0.1565 - accuracy: 0.6871\n",
      "Epoch 10: val_loss improved from 0.18376 to 0.17290, saving model to scratchmodel.best.hdf5\n",
      "1250/1250 [==============================] - 21s 17ms/step - loss: 0.1565 - accuracy: 0.6871 - val_loss: 0.1729 - val_accuracy: 0.6510\n"
     ]
    },
    {
     "data": {
      "text/plain": [
       "<keras.callbacks.History at 0x1e9a5f0dd60>"
      ]
     },
     "execution_count": 32,
     "metadata": {},
     "output_type": "execute_result"
    }
   ],
   "source": [
    "#Fitting the model on the train data and labels.\n",
    "model.fit(X_train, y_train, batch_size=32, epochs=10, \n",
    "          verbose=1, callbacks=[checkpointer], validation_split=0.2, shuffle=True)"
   ]
  },
  {
   "cell_type": "code",
   "execution_count": 33,
   "metadata": {
    "colab": {
     "base_uri": "https://localhost:8080/",
     "height": 51
    },
    "id": "x8nbkEQyDdYR",
    "outputId": "2cc7959d-cad2-43d8-e789-1f691ca97176"
   },
   "outputs": [
    {
     "name": "stdout",
     "output_type": "stream",
     "text": [
      "313/313 [==============================] - 2s 6ms/step - loss: 0.1766 - accuracy: 0.6412\n",
      "Accuracy on the Test Images:  0.6412000060081482\n"
     ]
    }
   ],
   "source": [
    "#Evaluate the model on the test data\n",
    "score = model.evaluate(X_test, y_test)\n",
    "\n",
    "#Accuracy on test data\n",
    "print('Accuracy on the Test Images: ', score[1])"
   ]
  },
  {
   "cell_type": "code",
   "execution_count": null,
   "metadata": {
    "id": "US7CtSQjGjk4"
   },
   "outputs": [],
   "source": []
  },
  {
   "cell_type": "code",
   "execution_count": null,
   "metadata": {
    "id": "xzLO15gFGjqp"
   },
   "outputs": [],
   "source": []
  },
  {
   "cell_type": "code",
   "execution_count": null,
   "metadata": {
    "id": "CBiRaNB1Gjtf"
   },
   "outputs": [],
   "source": []
  },
  {
   "cell_type": "code",
   "execution_count": null,
   "metadata": {
    "id": "7KILMqqGGjvy"
   },
   "outputs": [],
   "source": []
  },
  {
   "cell_type": "markdown",
   "metadata": {
    "id": "2zUkUpZQvRPX"
   },
   "source": [
    "## Vanilla CNN + Data Augmentation"
   ]
  },
  {
   "cell_type": "code",
   "execution_count": 34,
   "metadata": {
    "id": "nvv2SmKQfLvY"
   },
   "outputs": [],
   "source": [
    "from keras.preprocessing.image import ImageDataGenerator\n",
    "\n",
    "# This will do preprocessing and realtime data augmentation:\n",
    "datagen = ImageDataGenerator(\n",
    "    featurewise_center=False,  # set input mean to 0 over the dataset\n",
    "    samplewise_center=False,  # set each sample mean to 0\n",
    "    featurewise_std_normalization=False,  # divide inputs by std of the dataset\n",
    "    samplewise_std_normalization=False,  # divide each input by its std\n",
    "    zca_whitening=False,  # apply ZCA whitening\n",
    "    rotation_range=50,  # randomly rotate images in the range (degrees, 0 to 180)\n",
    "    width_shift_range=0.1,  # randomly shift images horizontally (fraction of total width)\n",
    "    height_shift_range=0.1,  # randomly shift images vertically (fraction of total height)\n",
    "    horizontal_flip=False,  # randomly flip images\n",
    "    vertical_flip=False)  # randomly flip images\n",
    "\n",
    "# Prepare the generator\n",
    "datagen.fit(trainX)"
   ]
  },
  {
   "cell_type": "code",
   "execution_count": 35,
   "metadata": {
    "colab": {
     "base_uri": "https://localhost:8080/",
     "height": 89
    },
    "executionInfo": {
     "elapsed": 1245,
     "status": "ok",
     "timestamp": 1615060538534,
     "user": {
      "displayName": "Sayan Dey",
      "photoUrl": "https://lh3.googleusercontent.com/a-/AOh14GgqVHJ9o6-7idGiRbNNd4iVc1VjzvuPnwmAnvEtD6U=s64",
      "userId": "03603580465490055794"
     },
     "user_tz": -330
    },
    "id": "pIio3nUAfiyA",
    "outputId": "6d74bedd-a401-4594-c616-0079ff6ca4dd"
   },
   "outputs": [
    {
     "data": {
      "image/png": "[encoded data removed]",
      "text/plain": [
       "<Figure size 640x480 with 5 Axes>"
      ]
     },
     "metadata": {},
     "output_type": "display_data"
    }
   ],
   "source": [
    "from matplotlib import pyplot as plt\n",
    "gen = datagen.flow(trainX[:1], batch_size=1)\n",
    "for i in range(1, 6):\n",
    "    plt.subplot(1,5,i)\n",
    "    plt.axis(\"off\")\n",
    "    plt.imshow(gen.next().squeeze(), cmap='gray')\n",
    "    plt.plot()"
   ]
  },
  {
   "cell_type": "markdown",
   "metadata": {
    "id": "WplPq4-JHZjn"
   },
   "source": [
    "## Build the Graph"
   ]
  },
  {
   "cell_type": "code",
   "execution_count": 36,
   "metadata": {
    "id": "JDZhd_YyHZjo"
   },
   "outputs": [],
   "source": [
    "tf.keras.backend.clear_session()\n",
    "#Initialize model, reshape & normalize data\n",
    "model = tf.keras.models.Sequential()\n",
    "\n",
    "#Reshape data from 2D (28,28) to 3D (28, 28, 1)\n",
    "model.add(tf.keras.layers.Reshape((32,32,3),input_shape=(32,32,3)))"
   ]
  },
  {
   "cell_type": "markdown",
   "metadata": {
    "id": "_ffqlSvQHZjo"
   },
   "source": [
    "### Apply Convolutional Layers, MaxPooling"
   ]
  },
  {
   "cell_type": "code",
   "execution_count": 37,
   "metadata": {
    "id": "mtysvNeiHZjo"
   },
   "outputs": [],
   "source": [
    "#Add first convolutional layer\n",
    "model.add(tf.keras.layers.Conv2D(32, #Number of filters \n",
    "                                 kernel_size=(3,3), #Size of the filter\n",
    "                                 activation='relu'))\n",
    "\n",
    "#Add second convolutional layer\n",
    "model.add(tf.keras.layers.Conv2D(64, kernel_size=(3,3), activation='relu'))\n",
    "model.add(tf.keras.layers.MaxPool2D(pool_size=(2,2)))\n",
    "model.add(tf.keras.layers.Conv2D(128, kernel_size=(3,3), activation='relu'))\n",
    "model.add(tf.keras.layers.Conv2D(256, kernel_size=(3,3), activation='relu'))\n",
    "#Add MaxPooling layer\n",
    "model.add(tf.keras.layers.MaxPool2D(pool_size=(2,2)))\n",
    "\n",
    "#model.add(tf.keras.layers.GlobalAveragePooling2D())"
   ]
  },
  {
   "cell_type": "markdown",
   "metadata": {
    "id": "5nqv8TivHZjp"
   },
   "source": [
    "### Add layers for Classification"
   ]
  },
  {
   "cell_type": "code",
   "execution_count": 38,
   "metadata": {
    "id": "zOKvYdl3HZjp"
   },
   "outputs": [],
   "source": [
    "#Flatten the output\n",
    "model.add(tf.keras.layers.Flatten())\n",
    "\n",
    "#Dense layer\n",
    "model.add(tf.keras.layers.Dense(128, activation='relu'))\n",
    "\n",
    "#Add another dropout layer\n",
    "model.add(tf.keras.layers.Dropout(0.3))\n",
    "\n",
    "#Output layer\n",
    "model.add(tf.keras.layers.Dense(10, activation='softmax'))"
   ]
  },
  {
   "cell_type": "code",
   "execution_count": 39,
   "metadata": {
    "id": "JRC-e3pFHZjp"
   },
   "outputs": [],
   "source": [
    "model.compile(optimizer='adam', \n",
    "              loss='categorical_crossentropy', metrics=['accuracy'])"
   ]
  },
  {
   "cell_type": "code",
   "execution_count": 40,
   "metadata": {
    "colab": {
     "base_uri": "https://localhost:8080/"
    },
    "executionInfo": {
     "elapsed": 1284,
     "status": "ok",
     "timestamp": 1615060667973,
     "user": {
      "displayName": "Sayan Dey",
      "photoUrl": "https://lh3.googleusercontent.com/a-/AOh14GgqVHJ9o6-7idGiRbNNd4iVc1VjzvuPnwmAnvEtD6U=s64",
      "userId": "03603580465490055794"
     },
     "user_tz": -330
    },
    "id": "1wN_tNI8HZjp",
    "outputId": "67c761e7-8bdd-4b80-b33a-907f85e32b35"
   },
   "outputs": [
    {
     "name": "stdout",
     "output_type": "stream",
     "text": [
      "Model: \"sequential\"\n",
      "_________________________________________________________________\n",
      " Layer (type)                Output Shape              Param #   \n",
      "=================================================================\n",
      " reshape (Reshape)           (None, 32, 32, 3)         0         \n",
      "                                                                 \n",
      " conv2d (Conv2D)             (None, 30, 30, 32)        896       \n",
      "                                                                 \n",
      " conv2d_1 (Conv2D)           (None, 28, 28, 64)        18496     \n",
      "                                                                 \n",
      " max_pooling2d (MaxPooling2D  (None, 14, 14, 64)       0         \n",
      " )                                                               \n",
      "                                                                 \n",
      " conv2d_2 (Conv2D)           (None, 12, 12, 128)       73856     \n",
      "                                                                 \n",
      " conv2d_3 (Conv2D)           (None, 10, 10, 256)       295168    \n",
      "                                                                 \n",
      " max_pooling2d_1 (MaxPooling  (None, 5, 5, 256)        0         \n",
      " 2D)                                                             \n",
      "                                                                 \n",
      " flatten (Flatten)           (None, 6400)              0         \n",
      "                                                                 \n",
      " dense (Dense)               (None, 128)               819328    \n",
      "                                                                 \n",
      " dropout (Dropout)           (None, 128)               0         \n",
      "                                                                 \n",
      " dense_1 (Dense)             (None, 10)                1290      \n",
      "                                                                 \n",
      "=================================================================\n",
      "Total params: 1,209,034\n",
      "Trainable params: 1,209,034\n",
      "Non-trainable params: 0\n",
      "_________________________________________________________________\n"
     ]
    }
   ],
   "source": [
    "model.summary()"
   ]
  },
  {
   "cell_type": "code",
   "execution_count": 41,
   "metadata": {
    "id": "kAaiRoxFH8--"
   },
   "outputs": [],
   "source": [
    "TRAIN = True\n",
    "BATCH_SIZE = 32\n",
    "EPOCHS = 10"
   ]
  },
  {
   "cell_type": "code",
   "execution_count": 42,
   "metadata": {
    "colab": {
     "base_uri": "https://localhost:8080/"
    },
    "executionInfo": {
     "elapsed": 280802,
     "status": "ok",
     "timestamp": 1615061735490,
     "user": {
      "displayName": "Sayan Dey",
      "photoUrl": "https://lh3.googleusercontent.com/a-/AOh14GgqVHJ9o6-7idGiRbNNd4iVc1VjzvuPnwmAnvEtD6U=s64",
      "userId": "03603580465490055794"
     },
     "user_tz": -330
    },
    "id": "W3wweCqofmpI",
    "outputId": "79f49778-b7a2-4ab2-c26d-8d0629604e77"
   },
   "outputs": [
    {
     "name": "stdout",
     "output_type": "stream",
     "text": [
      "Epoch 1/10\n"
     ]
    },
    {
     "name": "stderr",
     "output_type": "stream",
     "text": [
      "C:\\Users\\19144\\AppData\\Local\\Temp\\ipykernel_9172\\3266446990.py:3: UserWarning: `Model.fit_generator` is deprecated and will be removed in a future version. Please use `Model.fit`, which supports generators.\n",
      "  model.fit_generator(datagen.flow(trainX, trainY,\n"
     ]
    },
    {
     "name": "stdout",
     "output_type": "stream",
     "text": [
      "1562/1562 [==============================] - 148s 94ms/step - loss: 1.8244 - accuracy: 0.3254 - val_loss: 1.4118 - val_accuracy: 0.4771\n",
      "Epoch 2/10\n",
      "1562/1562 [==============================] - 146s 94ms/step - loss: 1.5045 - accuracy: 0.4548 - val_loss: 1.2472 - val_accuracy: 0.5446\n",
      "Epoch 3/10\n",
      "1562/1562 [==============================] - 150s 96ms/step - loss: 1.3507 - accuracy: 0.5156 - val_loss: 1.1454 - val_accuracy: 0.5983\n",
      "Epoch 4/10\n",
      "1562/1562 [==============================] - 143s 92ms/step - loss: 1.2597 - accuracy: 0.5548 - val_loss: 1.0522 - val_accuracy: 0.6280\n",
      "Epoch 5/10\n",
      "1562/1562 [==============================] - 151s 96ms/step - loss: 1.1813 - accuracy: 0.5877 - val_loss: 1.1079 - val_accuracy: 0.6106\n",
      "Epoch 6/10\n",
      "1562/1562 [==============================] - 150s 96ms/step - loss: 1.1346 - accuracy: 0.6030 - val_loss: 0.9677 - val_accuracy: 0.6659\n",
      "Epoch 7/10\n",
      "1562/1562 [==============================] - 147s 94ms/step - loss: 1.0820 - accuracy: 0.6240 - val_loss: 0.9297 - val_accuracy: 0.6795\n",
      "Epoch 8/10\n",
      "1562/1562 [==============================] - 149s 95ms/step - loss: 1.0507 - accuracy: 0.6332 - val_loss: 0.8814 - val_accuracy: 0.6962\n",
      "Epoch 9/10\n",
      "1562/1562 [==============================] - 139s 89ms/step - loss: 1.0240 - accuracy: 0.6460 - val_loss: 0.8566 - val_accuracy: 0.7091\n",
      "Epoch 10/10\n",
      "1562/1562 [==============================] - 143s 91ms/step - loss: 0.9980 - accuracy: 0.6553 - val_loss: 0.9096 - val_accuracy: 0.6892\n"
     ]
    }
   ],
   "source": [
    "TRAIN= True\n",
    "if TRAIN:\n",
    "    model.fit_generator(datagen.flow(trainX, trainY,\n",
    "                        batch_size=BATCH_SIZE),\n",
    "                        steps_per_epoch=trainX.shape[0]/BATCH_SIZE,\n",
    "                        epochs=EPOCHS,\n",
    "                        validation_data=(testX, testY))\n",
    "    model.save('./cnn_augment.h5')\n",
    "else:\n",
    "    print('Loading pretrained model...')\n",
    "    model3 = keras.models.load_model('./cnn_augment.h5')\n",
    "    print('Model Loaded.')"
   ]
  },
  {
   "cell_type": "code",
   "execution_count": 58,
   "metadata": {
    "colab": {
     "base_uri": "https://localhost:8080/",
     "height": 50
    },
    "executionInfo": {
     "elapsed": 2239,
     "status": "ok",
     "timestamp": 1540962651210,
     "user": {
      "displayName": "Sheshadri Thiruvenkadam",
      "photoUrl": "",
      "userId": "12398601621710629404"
     },
     "user_tz": -330
    },
    "id": "5MCWVQ2-giao",
    "outputId": "69a35f42-e20f-41ec-a0cb-ae47860d7c36"
   },
   "outputs": [
    {
     "name": "stdout",
     "output_type": "stream",
     "text": [
      "313/313 [==============================] - 8s 24ms/step - loss: 0.9096 - accuracy: 0.6892\n",
      "[0.9096300601959229, 0.6891999840736389]\n"
     ]
    }
   ],
   "source": [
    "import keras\n",
    "import keras.utils\n",
    "from keras import utils as np_utils\n",
    "from keras.models import Sequential\n",
    "from keras.layers import Dense, Dropout, Activation\n",
    "from keras.optimizers import SGD\n",
    "model3 = keras.models.load_model('./cnn_augment.h5')\n",
    "loss_and_metrics = model3.evaluate(testX, testY)\n",
    "print(loss_and_metrics)"
   ]
  },
  {
   "cell_type": "code",
   "execution_count": null,
   "metadata": {},
   "outputs": [],
   "source": []
  }
 ],
 "metadata": {
  "accelerator": "GPU",
  "colab": {
   "collapsed_sections": [],
   "name": "CIFAR-10 CNN.ipynb",
   "provenance": []
  },
  "kernelspec": {
   "display_name": "Python 3 (ipykernel)",
   "language": "python",
   "name": "python3"
  },
  "language_info": {
   "codemirror_mode": {
    "name": "ipython",
    "version": 3
   },
   "file_extension": ".py",
   "mimetype": "text/x-python",
   "name": "python",
   "nbconvert_exporter": "python",
   "pygments_lexer": "ipython3",
   "version": "3.9.12"
  }
 },
 "nbformat": 4,
 "nbformat_minor": 1
}
